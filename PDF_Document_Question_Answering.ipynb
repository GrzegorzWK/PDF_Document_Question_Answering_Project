{
 "cells": [
  {
   "cell_type": "code",
   "execution_count": null,
   "id": "1fc168e7-5ca2-4f58-afb9-f7c0ca290f33",
   "metadata": {},
   "outputs": [],
   "source": []
  }
 ],
 "metadata": {
  "kernelspec": {
   "display_name": "",
   "name": ""
  },
  "language_info": {
   "name": ""
  }
 },
 "nbformat": 4,
 "nbformat_minor": 5
}
