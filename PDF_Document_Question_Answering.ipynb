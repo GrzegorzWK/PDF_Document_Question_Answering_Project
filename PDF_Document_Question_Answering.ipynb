{
 "cells": [
  {
   "cell_type": "code",
   "execution_count": null,
   "id": "1fc168e7-5ca2-4f58-afb9-f7c0ca290f33",
   "metadata": {},
   "outputs": [],
   "source": [
    "%pip install cassio datasets langchain openai tiktoken langchain-community PyPDF2"
   ]
  },
  {
   "cell_type": "code",
   "execution_count": null,
   "id": "80153765-1ded-4e2a-940b-c9f8568b6ad8",
   "metadata": {},
   "outputs": [],
   "source": [
    "from langchain.vectorstores.cassandra import Cassandra\n",
    "from langchain.indexes.vectorstore import VectorStoreIndexWrapper\n",
    "from langchain.llms import OpenAI\n",
    "from langchain.embeddings import OpenAIEmbeddings\n",
    "from langchain_text_splitters import CharacterTextSplitter\n",
    "\n",
    "from datasets import load_dataset\n",
    "\n",
    "import cassio\n",
    "\n",
    "from PyPDF2 import PdfReader\n",
    "\n",
    "from typing_extensions import Concatenate"
   ]
  },
  {
   "cell_type": "code",
   "execution_count": 6,
   "id": "62ca4317",
   "metadata": {},
   "outputs": [],
   "source": [
    "ASTRA_DB_APPLICATION_TOKEN = \"ASTRA_DB_APPLICATION_TOKEN\"\n",
    "ASTRA_DB_ID = \"ASTRA_DB_ID\"\n",
    "\n",
    "OPENAI_API_KEY = \"OPENAI_API_KEY\""
   ]
  },
  {
   "cell_type": "markdown",
   "id": "eecfce99",
   "metadata": {},
   "source": [
    "In my example: SOURCES_AND_SCOPE_OF_EUROPEAN_UNION_LAW.pdf"
   ]
  },
  {
   "cell_type": "code",
   "execution_count": 7,
   "id": "fd104f38",
   "metadata": {},
   "outputs": [],
   "source": [
    "pdfreader = PdfReader('PDF_FILE.pdf')"
   ]
  },
  {
   "cell_type": "code",
   "execution_count": 9,
   "id": "8288f653",
   "metadata": {},
   "outputs": [],
   "source": [
    "raw_text = \"\""
   ]
  },
  {
   "cell_type": "code",
   "execution_count": 10,
   "id": "e63b11e1",
   "metadata": {},
   "outputs": [],
   "source": [
    "for i, page in enumerate(pdfreader.pages):\n",
    "    content = page.extract_text()\n",
    "    if content:\n",
    "        raw_text += content"
   ]
  },
  {
   "cell_type": "code",
   "execution_count": 12,
   "id": "2c1d1708",
   "metadata": {},
   "outputs": [],
   "source": [
    "cassio.init(token=ASTRA_DB_APPLICATION_TOKEN, database_id=ASTRA_DB_ID)"
   ]
  },
  {
   "cell_type": "code",
   "execution_count": null,
   "id": "cf739a91",
   "metadata": {},
   "outputs": [],
   "source": [
    "llm = OpenAI(openai_api_key=OPENAI_API_KEY)\n",
    "embedding = OpenAIEmbeddings(openai_api_key=OPENAI_API_KEY)"
   ]
  },
  {
   "cell_type": "code",
   "execution_count": null,
   "id": "56c47e68",
   "metadata": {},
   "outputs": [],
   "source": [
    "astra_vector_store = Cassandra(\n",
    "    embedding=embedding,\n",
    "    table_name=\"qa_mini_demo\",\n",
    "    session=None,\n",
    "    keyspace=None,\n",
    ")"
   ]
  },
  {
   "cell_type": "code",
   "execution_count": 17,
   "id": "6228147b",
   "metadata": {},
   "outputs": [],
   "source": [
    "text_spliiter = CharacterTextSplitter(\n",
    "    separator = \"\\n\",\n",
    "    chunk_size = 800,\n",
    "    chunk_overlap = 200,\n",
    "    length_function = len,\n",
    ")"
   ]
  },
  {
   "cell_type": "code",
   "execution_count": 18,
   "id": "30e2e6a0",
   "metadata": {},
   "outputs": [],
   "source": [
    "texts = text_spliiter.split_text(raw_text)"
   ]
  },
  {
   "cell_type": "code",
   "execution_count": null,
   "id": "99c06b87",
   "metadata": {},
   "outputs": [],
   "source": [
    "texts"
   ]
  },
  {
   "cell_type": "code",
   "execution_count": null,
   "id": "7e3c51f0",
   "metadata": {},
   "outputs": [],
   "source": [
    "astra_vector_store.add_texts(texts)\n",
    "\n",
    "print(\"Inserted %i headlines.\" % len(texts))\n",
    "\n",
    "astra_vector_index = VectorStoreIndexWrapper(vectorstore=astra_vector_store)"
   ]
  },
  {
   "cell_type": "markdown",
   "id": "9c0c2e97",
   "metadata": {},
   "source": [
    "QUESTION: Involvement of independent research needs to be?"
   ]
  },
  {
   "cell_type": "code",
   "execution_count": null,
   "id": "d1d27281",
   "metadata": {},
   "outputs": [],
   "source": [
    "first_question = True\n",
    "\n",
    "while True:\n",
    "    if first_question:\n",
    "        query_text = input(\"\\n Enter your question (ortype 'quit' to exit): \").strip()\n",
    "    else:\n",
    "        query_text = input(\"\\n What's your next question (ortype 'quit' to exit): \").strip() \n",
    "\n",
    "    if query_text.lower() == \"quit\":\n",
    "        break\n",
    "\n",
    "    if query_text == \"\":\n",
    "        continue\n",
    "\n",
    "    first_question = False\n",
    "\n",
    "    print(\"\\n QUESTION: \\\"%s\\\"\" % query_text)\n",
    "    answer = astra_vector_index.query(query_text, llm=llm).strip()\n",
    "    print(\"ANSWER: \\\"%s\\\"\\n\" % answer)\n",
    "\n",
    "    print(\"FIRST DOCUMENTS BY RELEVANCE:\")\n",
    "    for doc, score in astra_vector_store.similarity_search_with_score(query_text, k=4):\n",
    "        print(\"     [%0.4f] \\\"%s ...\\\"\" % (score, doc.page_content[:84]))"
   ]
  }
 ],
 "metadata": {
  "kernelspec": {
   "display_name": "pdf_query",
   "language": "python",
   "name": "python3"
  },
  "language_info": {
   "codemirror_mode": {
    "name": "ipython",
    "version": 3
   },
   "file_extension": ".py",
   "mimetype": "text/x-python",
   "name": "python",
   "nbconvert_exporter": "python",
   "pygments_lexer": "ipython3",
   "version": "3.9.21"
  }
 },
 "nbformat": 4,
 "nbformat_minor": 5
}
